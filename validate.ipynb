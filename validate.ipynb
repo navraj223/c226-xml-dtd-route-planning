{
  "nbformat": 4,
  "nbformat_minor": 0,
  "metadata": {
    "colab": {
      "provenance": []
    },
    "kernelspec": {
      "name": "python3",
      "display_name": "Python 3"
    },
    "language_info": {
      "name": "python"
    }
  },
  "cells": [
    {
      "cell_type": "code",
      "execution_count": 19,
      "metadata": {
        "colab": {
          "base_uri": "https://localhost:8080/"
        },
        "collapsed": true,
        "id": "4pRkal6IZvpG",
        "outputId": "f78d42cc-3ca6-43ee-c6b7-f2d9aec14577"
      },
      "outputs": [
        {
          "output_type": "stream",
          "name": "stdout",
          "text": [
            "Downloading...\n",
            "From (original): https://drive.google.com/uc?id=1LRzv72YRTH8xWHE3zb3bDKeRHpRmKw-i\n",
            "From (redirected): https://drive.google.com/uc?id=1LRzv72YRTH8xWHE3zb3bDKeRHpRmKw-i&confirm=t&uuid=378411e6-37a9-4a38-bbd3-eaab3d7da530\n",
            "To: /content/sample.xml\n",
            "100% 203/203 [00:00<00:00, 978kB/s]\n",
            "Downloading...\n",
            "From: https://drive.google.com/uc?id=1ER4R6zO8qP2W3HaXXF6qRW1CnF5HDZdh\n",
            "To: /content/domain.dtd\n",
            "100% 143/143 [00:00<00:00, 512kB/s]\n",
            "Downloading...\n",
            "From (original): https://drive.google.com/uc?id=1-21XqrTQAsvefkeK8CFQ1cE3RYSANBEL\n",
            "From (redirected): https://drive.google.com/uc?id=1-21XqrTQAsvefkeK8CFQ1cE3RYSANBEL&confirm=t&uuid=850f3175-67ed-4ac5-ad69-9291aa5ded1c\n",
            "To: /content/broken.xml\n",
            "100% 179/179 [00:00<00:00, 531kB/s]\n"
          ]
        }
      ],
      "source": [
        "# https://drive.google.com/file/d/1LRzv72YRTH8xWHE3zb3bDKeRHpRmKw-i/view?usp=drive_link\n",
        "\n",
        "# https://drive.google.com/file/d/1ER4R6zO8qP2W3HaXXF6qRW1CnF5HDZdh/view?usp=drive_link\n",
        "\n",
        "# https://drive.google.com/file/d/1-21XqrTQAsvefkeK8CFQ1cE3RYSANBEL/view?usp=drive_link\n",
        "\n",
        "# XML (valid)\n",
        "!gdown 1LRzv72YRTH8xWHE3zb3bDKeRHpRmKw-i -O sample.xml\n",
        "\n",
        "# DTD\n",
        "!gdown 1ER4R6zO8qP2W3HaXXF6qRW1CnF5HDZdh -O domain.dtd\n",
        "\n",
        "# XML (broken)\n",
        "!gdown 1-21XqrTQAsvefkeK8CFQ1cE3RYSANBEL -O broken.xml"
      ]
    },
    {
      "cell_type": "markdown",
      "source": [
        "# Helpers:\n"
      ],
      "metadata": {
        "id": "A5w90QVGbJsS"
      }
    },
    {
      "cell_type": "code",
      "source": [
        "!pip -q install lxml pygments"
      ],
      "metadata": {
        "id": "syBi7tLGafee"
      },
      "execution_count": 20,
      "outputs": []
    },
    {
      "cell_type": "code",
      "source": [
        "from lxml import etree\n",
        "\n",
        "# Load DTD\n",
        "with open(\"domain.dtd\", \"rb\") as f:\n",
        "    dtd = etree.DTD(f)\n",
        "\n",
        "# Parse XML\n",
        "tree = etree.parse(\"sample.xml\")\n",
        "\n",
        "# Validate\n",
        "if dtd.validate(tree):\n",
        "    print(\"XML is valid ✅\")\n",
        "else:\n",
        "    print(\"XML is NOT valid ❌\")\n",
        "    print(dtd.error_log.filter_from_errors())"
      ],
      "metadata": {
        "colab": {
          "base_uri": "https://localhost:8080/"
        },
        "id": "SxLKJkjhiblg",
        "outputId": "255e5272-9eaf-4503-925c-bfd0cd6a12c6"
      },
      "execution_count": 21,
      "outputs": [
        {
          "output_type": "stream",
          "name": "stdout",
          "text": [
            "XML is valid ✅\n"
          ]
        }
      ]
    },
    {
      "cell_type": "code",
      "source": [
        "from lxml import etree\n",
        "\n",
        "# Load DTD\n",
        "with open(\"domain.dtd\", \"rb\") as f:\n",
        "    dtd = etree.DTD(f)\n",
        "\n",
        "# Parse XML\n",
        "tree = etree.parse(\"broken.xml\")\n",
        "\n",
        "# Validate\n",
        "if dtd.validate(tree):\n",
        "    print(\"XML is valid ✅\")\n",
        "else:\n",
        "    print(\"XML is NOT valid ❌\")\n",
        "    print(dtd.error_log.filter_from_errors())"
      ],
      "metadata": {
        "colab": {
          "base_uri": "https://localhost:8080/"
        },
        "id": "WgBcRxtyigyM",
        "outputId": "4fff4678-8174-45d1-cb4a-5053f515d686"
      },
      "execution_count": 22,
      "outputs": [
        {
          "output_type": "stream",
          "name": "stdout",
          "text": [
            "XML is NOT valid ❌\n",
            "broken.xml:2:0:ERROR:VALID:DTD_CONTENT_MODEL: Element route content does not follow the DTD, expecting (origin , destination , distance), got (origin distance )\n"
          ]
        }
      ]
    }
  ]
}
